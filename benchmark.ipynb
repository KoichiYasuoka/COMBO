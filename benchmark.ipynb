{
  "nbformat":4,
  "nbformat_minor":0,
  "metadata":{
    "colab":{ "name":"舞姬/雪國/荒野より-Benchmarks of UniDic-COMBO" },
    "kernelspec":{ "name":"python3" }
  },
  "cells":[
    {
      "cell_type":"markdown",
      "metadata":{ "colab_type":"text" },
      "source":[
        "# [舞姬/雪國/荒野より-Benchmarks](https://github.com/KoichiYasuoka/UniDic2UD/tree/master/benchmark) of [UniDic-COMBO](https://github.com/KoichiYasuoka/UniDic-COMBO)"
      ]
    },
    {
      "cell_type":"code",
      "metadata":{ "colab_type":"code" },
      "source":[
        "!pip install unidic_combo\n",
        "!curl -L https://raw.githubusercontent.com/KoichiYasuoka/UniDic2UD/master/benchmark/maihime-benchmark.tar.gz | tar xzf -\n",
        "!sh benchmark.sh unidic_combo 'load(\"kindai\")' maihime.conllu\n",
        "!sh benchmark.sh unidic_combo 'load(\"qkana\")' maihime.conllu\n",
        "!sh benchmark.sh unidic_combo 'load(\"kinsei\")' maihime.conllu\n",
        "!curl -L https://raw.githubusercontent.com/KoichiYasuoka/UniDic2UD/master/benchmark/yukiguni-benchmark.tar.gz | tar xzf -\n",
        "!sh benchmark.sh unidic_combo 'load(\"qkana\")' yukiguni.conllu\n",
        "!sh benchmark.sh unidic_combo 'load(\"kinsei\")' yukiguni.conllu\n",
        "!sh benchmark.sh unidic_combo 'load(\"kindai\")' yukiguni.conllu\n",
        "!curl -L https://raw.githubusercontent.com/KoichiYasuoka/UniDic2UD/master/benchmark/koyayori-benchmark.tar.gz | tar xzf -\n",
        "!sh benchmark.sh unidic_combo 'load(\"qkana\")' koyayori.conllu\n",
        "!sh benchmark.sh unidic_combo 'load(\"kindai\")' koyayori.conllu\n",
        "!sh benchmark.sh unidic_combo 'load(\"kinsei\")' koyayori.conllu"
      ],
      "outputs":[
        {
          "output_type":"stream",
          "text":[
            "### unidic_combo.load(\"kindai\") maihime.conllu\n",
            "LAS F1 Score: 83.02\n",
            "MLAS Score: 74.07\n",
            "BLEX Score: 81.48\n",
            "### unidic_combo.load(\"qkana\") maihime.conllu\n",
            "LAS F1 Score: 81.13\n",
            "MLAS Score: 74.07\n",
            "BLEX Score: 81.48\n",
            "### unidic_combo.load(\"kinsei\") maihime.conllu\n",
            "LAS F1 Score: 75.93\n",
            "MLAS Score: 69.09\n",
            "BLEX Score: 72.73\n",
            "\n",
            "### unidic_combo.load(\"qkana\") yukiguni.conllu\n",
            "LAS F1 Score: 87.50\n",
            "MLAS Score: 82.35\n",
            "BLEX Score: 78.43\n",
            "### unidic_combo.load(\"kinsei\") yukiguni.conllu\n",
            "LAS F1 Score: 85.71\n",
            "MLAS Score: 78.43\n",
            "BLEX Score: 74.51\n",
            "### unidic_combo.load(\"kindai\") yukiguni.conllu\n",
            "LAS F1 Score: 83.19\n",
            "MLAS Score: 78.43\n",
            "BLEX Score: 74.51\n",
            "\n",
            "### unidic_combo.load(\"qkana\") koyayori.conllu\n",
            "LAS F1 Score: 77.49\n",
            "MLAS Score: 56.00\n",
            "BLEX Score: 64.00\n",
            "### unidic_combo.load(\"kindai\") koyayori.conllu\n",
            "LAS F1 Score: 78.53\n",
            "MLAS Score: 53.33\n",
            "BLEX Score: 61.33\n",
            "### unidic_combo.load(\"kinsei\") koyayori.conllu\n",
            "LAS F1 Score: 69.79\n",
            "MLAS Score: 52.63\n",
            "BLEX Score: 57.89\n",
            "\n"
          ]
        }
      ]
    }
  ]
}
