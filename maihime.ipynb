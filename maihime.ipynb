{
  "nbformat":4,
  "nbformat_minor":0,
  "metadata":{
    "colab":{ "name":"舞姬-Benchmark of UniDic-COMBO" },
    "kernelspec":{ "name":"python3" }
  },
  "cells":[
    {
      "cell_type":"markdown",
      "metadata":{ "colab_type":"text" },
      "source":[
        "# 舞姬-Benchmark of [UniDic-COMBO](https://github.com/KoichiYasuoka/UniDic-COMBO)"
      ]
    },
    {
      "cell_type":"code",
      "metadata":{ "colab_type":"code" },
      "source":[
        "!pip install unidic_combo@git+https://github.com/KoichiYasuoka/UniDic-COMBO\n",
        "!curl -L https://raw.githubusercontent.com/KoichiYasuoka/UniDic2UD/master/benchmark/maihime-benchmark.tar.gz | tar xzf -\n",
        "!sh benchmark.sh unidic_combo 'load(\"kindai\")'\n",
        "!sh benchmark.sh unidic_combo 'load(\"qkana\")'\n",
        "!sh benchmark.sh unidic_combo 'load(\"kinsei\")'"
      ],
      "outputs":[
        {
          "output_type":"stream",
          "text":[
            "### unidic_combo.load(\"kindai\") maihime.conllu\n",
            "LAS F1 Score: 83.02\n",
            "MLAS Score: 74.07\n",
            "BLEX Score: 81.48\n",
            "### unidic_combo.load(\"qkana\") maihime.conllu\n",
            "LAS F1 Score: 81.13\n",
            "MLAS Score: 74.07\n",
            "BLEX Score: 81.48\n",
            "### unidic_combo.load(\"kinsei\") maihime.conllu\n",
            "LAS F1 Score: 75.93\n",
            "MLAS Score: 69.09\n",
            "BLEX Score: 72.73\n",
            "\n"
          ]
        }
      ]
    }
  ]
}
